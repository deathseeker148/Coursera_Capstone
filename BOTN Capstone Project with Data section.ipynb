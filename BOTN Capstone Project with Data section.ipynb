{
 "cells": [
  {
   "cell_type": "markdown",
   "metadata": {},
   "source": [
    "# Battle of the Neighborhoods Capstone Project"
   ]
  },
  {
   "cell_type": "markdown",
   "metadata": {},
   "source": [
    "## Introduction / Business Problem"
   ]
  },
  {
   "cell_type": "markdown",
   "metadata": {},
   "source": [
    "<b>Stakeholders:</b> Restaurant investors\n",
    "\n",
    "<b>Problem:</b> Starting new chain of Vietnamse Pho restaurants in Chicago\n",
    "\n",
    "<b>Target:</b> Find neighborhoods where opening a restaurant would be profitable"
   ]
  },
  {
   "cell_type": "markdown",
   "metadata": {},
   "source": [
    "Opening new restaurants are difficult to do, especially in neighborhoods that have not had a particular cuisine available so close before. Due to the size and diversity of Chicago, our problem is to find those neighborhoods where we will have low amount of competitors (other Asian restaurants). We want to avoid neighborhoods where they are saturated with Asian cuisines, nor are close to other neighborhoods with Asian cuisines as their top restaurant.\n",
    "\n",
    "What can we leverage to find those neighborhoods? Using Foursquare data, we should analysis what is in each neighborhood in term of restaurants."
   ]
  },
  {
   "cell_type": "markdown",
   "metadata": {},
   "source": [
    "## <b>Data</b>"
   ]
  },
  {
   "cell_type": "markdown",
   "metadata": {},
   "source": [
    "1. Neighborhoods in Chicago and their locations</br>\n",
    "    a. Neighborhoods and locations will be pulled from Wikipedia</br>\n",
    "    b. Location data will be used to divide Chicago into neighborhoods as well as feed into Foursquare API to obtain information regarding each neighborhood</br>\n",
    "2. Venues data from Foursquare</br>\n",
    "3. If possible, get census data for each neighborhood"
   ]
  },
  {
   "cell_type": "markdown",
   "metadata": {},
   "source": [
    "### How Data is applied"
   ]
  },
  {
   "cell_type": "markdown",
   "metadata": {},
   "source": [
    "Using the data described above, we first find the top 5 venues at each neighborhood. We want to eliminate any neighborhoods where the 3 are any Asian cuisine, but those where the top 5 venues are coffee shops and ice cream. Why have coffee and ice cream at the top? Because some of the top selling items in a Vietnamese restaurant, outside of pho, is the iced coffee and boba tea; so in a neighborhood that enjoys their coffee and ice cream, the coffee and boba tea would do quite well."
   ]
  },
  {
   "cell_type": "markdown",
   "metadata": {},
   "source": [
    "Why seek census data? It will be used to create unique pho fusions. For instance, in Texas, there are restaurants that have merged the flavor of Tex-Mex with pho. If we can determine that a neighborhood is predominately Latin, we can bring Latin flair to the pho; but if the neighborhood is predominately German, we can bring a German flair to the pho. This will allow our restaurants to stand out from every other generic pho restaurant."
   ]
  },
  {
   "cell_type": "code",
   "execution_count": null,
   "metadata": {},
   "outputs": [],
   "source": []
  }
 ],
 "metadata": {
  "kernelspec": {
   "display_name": "Python 3",
   "language": "python",
   "name": "python3"
  },
  "language_info": {
   "codemirror_mode": {
    "name": "ipython",
    "version": 3
   },
   "file_extension": ".py",
   "mimetype": "text/x-python",
   "name": "python",
   "nbconvert_exporter": "python",
   "pygments_lexer": "ipython3",
   "version": "3.6.8"
  }
 },
 "nbformat": 4,
 "nbformat_minor": 2
}
