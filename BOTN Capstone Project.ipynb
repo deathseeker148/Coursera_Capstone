{
 "cells": [
  {
   "cell_type": "markdown",
   "metadata": {},
   "source": [
    "# Battle of the Neighborhoods Capstone Project"
   ]
  },
  {
   "cell_type": "markdown",
   "metadata": {},
   "source": [
    "## Introduction / Business Problem"
   ]
  },
  {
   "cell_type": "markdown",
   "metadata": {},
   "source": [
    "<b>Stakeholders:</b> Restaurant investors\n",
    "\n",
    "<b>Problem:</b> Starting new chain of Vietnamse Pho restaurants in Chicago\n",
    "\n",
    "<b>Target:</b> Find neighborhoods where opening a restaurant would be profitable"
   ]
  },
  {
   "cell_type": "markdown",
   "metadata": {},
   "source": [
    "Opening new restaurants are difficult to do, especially in neighborhoods that have not had a particular cuisine available so close before. Due to the size and diversity of Chicago, our problem is to find those neighborhoods where we will have low amount of competitors (other Asian restaurants). We want to avoid neighborhoods where they are saturated with Asian cuisines, nor are close to other neighborhoods with Asian cuisines as their top restaurant.\n",
    "\n",
    "What can we leverage to find those neighborhoods? Using Foursquare data, we should analysis what is in each neighborhood in term of restaurants."
   ]
  },
  {
   "cell_type": "code",
   "execution_count": null,
   "metadata": {},
   "outputs": [],
   "source": []
  }
 ],
 "metadata": {
  "kernelspec": {
   "display_name": "Python 3",
   "language": "python",
   "name": "python3"
  },
  "language_info": {
   "codemirror_mode": {
    "name": "ipython",
    "version": 3
   },
   "file_extension": ".py",
   "mimetype": "text/x-python",
   "name": "python",
   "nbconvert_exporter": "python",
   "pygments_lexer": "ipython3",
   "version": "3.6.8"
  }
 },
 "nbformat": 4,
 "nbformat_minor": 2
}
